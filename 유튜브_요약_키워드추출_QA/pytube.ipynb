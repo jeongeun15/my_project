{
 "cells": [
  {
   "cell_type": "markdown",
   "id": "7b24a9c0",
   "metadata": {},
   "source": [
    "# PyTube"
   ]
  },
  {
   "cell_type": "markdown",
   "id": "e6e5aa4f",
   "metadata": {},
   "source": [
    "유튜브 URL 입력 -> 언어 코드 선택('ko.7XP2tGORuV4') -> 전처리(불용어) -> 텍스트 추출"
   ]
  },
  {
   "cell_type": "code",
   "execution_count": 102,
   "id": "575ae5d1-d881-4920-8210-2057a53bd95b",
   "metadata": {},
   "outputs": [],
   "source": [
    "from pytube import YouTube"
   ]
  },
  {
   "cell_type": "code",
   "execution_count": 103,
   "id": "27880c5c",
   "metadata": {},
   "outputs": [],
   "source": [
    "video_url = 'https://www.youtube.com/watch?v=kbk8Z5hkx6Y'\n",
    "yt = YouTube(video_url)"
   ]
  },
  {
   "cell_type": "code",
   "execution_count": 105,
   "id": "5cc46365",
   "metadata": {},
   "outputs": [
    {
     "name": "stdout",
     "output_type": "stream",
     "text": [
      "[영상 제목] [더뉴스] 가격까지 튀겨버린 '식용유 대란'...원인은 어디에 있나? / YTN\n",
      "[영상 게시자] YTN news\n",
      "[조회수] 6148\n",
      "[평균평점] None\n",
      "[영상길이(초)] 126\n",
      "[연령제한여부] False\n",
      "[영상 설명] 지금 구매 개수를 제한할 정도로 그야말로 식용유 대란입니다.\n",
      "\n",
      "치킨은 뭘로 튀기나, 자영업자 분들의 하소연도 이어지고 있는데요.\n",
      "\n",
      "어려운 사정은 우리 뿐만 아닙니다. 지금 전세계가 그야말로 식용유 보릿고개를 넘고 있습니다.\n",
      "\n",
      "앞서 터키, 스페인, 벨기에 등 유럽 각국의 대형 마트에서도 식용유의 구매 개수를 제한한 바 있는데요.\n",
      "\n",
      "특히 영국의 대표적인 튀김 체인점인 피쉬앤칩스가 3천 곳 넘게 문을 닫았고, 영국 정부까지 나서 체인점 폐점 위기를 경고할 정도입니다.\n",
      "\n",
      "그렇다면 전세계 식용유 대란의 이유는 무엇일까요?\n",
      "\n",
      "세계적으로 가장 많이 쓰는 3대 식용유는 카놀라유, 콩기름, 팜유입니다.\n",
      "\n",
      "그 중 카놀라유 최대 수출국인 캐나다와 콩기름 원료, 대두의 주산지인 남미에서 지난해부터 극심한 가뭄이 이어진 탓에 작황이 부진했죠.\n",
      "\n",
      "보통 이런 상황에서는 해바라기씨유가 대안이 되곤 합니다.\n",
      "\n",
      "그런데! 해바라기씨유 수출 1, 2위 국가가 우크라이나와 러시아입니다.\n",
      "\n",
      "두 나라는 현재 전쟁 중이죠.\n",
      "\n",
      "특히 우크라이나는 해바라기씨유 생산량의 절반가량을 차지하고 있기 때문에 부족 현상은 더욱 악화됐습니다.\n",
      "\n",
      "전쟁의 여파는 남은 대안인 팜유에도 영향을 미쳤습니다.\n",
      "\n",
      "세계 최대 팜유 생산국인 인도네시아가 지난달 28일, 팜유 수출을 막아버렸는데요.\n",
      "\n",
      "전쟁으로 식용유 가격이 치솟자 인도네시아 팜유 업자들이, 팜유를 더 비싸게 팔기 위해 생산량 대부분을 수출하면서, 국내분이 부족해졌고, 결국 인도네시아 정부가 나서 수출금지 조치를 단행한 겁니다.\n",
      "\n",
      "결국 우리나라도 우크라이나 전쟁의 여진을 겪는 거나 마찬가지입니다.\n",
      "\n",
      "국내 식용유 가격이 오르고 구매 개수까지 제한하자, 우려의 목소리는 더욱 커지고 있는데요.\n",
      "\n",
      "다만 국내에서는 말레이시아산 팜유를 주로 사용하고, 아직까지 원재료 수급에도 큰 문제가 없다는 게 전문가 의견입니다.\n",
      "\n",
      "게다가 인도네시아의 수출 제한 조치도 완화될 가능성이 나오는 만큼 추이를 조금 더 지켜봐야 할 것 같습니다.\n",
      "\n",
      "\n",
      "\n",
      "\n",
      "\n",
      "YTN 박석원 (ancpark@ytn.co.kr)\n",
      "\n",
      "※ '당신의 제보가 뉴스가 됩니다'\n",
      "[카카오톡] YTN 검색해 채널 추가\n",
      "[전화] 02-398-8585\n",
      "[메일] social@ytn.co.kr\n",
      "\n",
      "▶ 기사 원문 : https://www.ytn.co.kr/_ln/0102_202205131354196954\n",
      "▶ 제보 하기 : https://mj.ytn.co.kr/mj/mj_write.php\n",
      "\n",
      "▣ YTN 유튜브 채널 구독 : http://goo.gl/Ytb5SZ\n",
      "\n",
      "ⓒ YTN & YTN plus 무단 전재 및 재배포금지\n",
      "[썸네일URL] https://i.ytimg.com/vi/kbk8Z5hkx6Y/sddefault.jpg\n"
     ]
    }
   ],
   "source": [
    "print(\"[영상 제목]\", yt.title)  # 영상제목\n",
    "print(\"[영상 게시자]\", yt.author) # 영상 게시자\n",
    "print(\"[조회수]\", yt.views)\n",
    "print(\"[평균평점]\", yt.rating) # 평균 평점\n",
    "print(\"[영상길이(초)]\", yt.length)\n",
    "print(\"[연령제한여부]\", yt.age_restricted)\n",
    "print(\"[영상 설명]\", yt.description) # 영상 설명\n",
    "print(\"[썸네일URL]\", yt.thumbnail_url) # 썸네일 url 주소"
   ]
  },
  {
   "cell_type": "code",
   "execution_count": 19,
   "id": "6e60647b",
   "metadata": {},
   "outputs": [
    {
     "name": "stderr",
     "output_type": "stream",
     "text": [
      "C:\\Users\\82102\\AppData\\Local\\Temp/ipykernel_19652/2973919538.py:1: DeprecationWarning: Call to deprecated function all (This object can be treated as a list, all() is useless).\n",
      "  yt.streams.all()\n"
     ]
    },
    {
     "data": {
      "text/plain": [
       "[<Stream: itag=\"17\" mime_type=\"video/3gpp\" res=\"144p\" fps=\"7fps\" vcodec=\"mp4v.20.3\" acodec=\"mp4a.40.2\" progressive=\"True\" type=\"video\">,\n",
       " <Stream: itag=\"18\" mime_type=\"video/mp4\" res=\"360p\" fps=\"30fps\" vcodec=\"avc1.42001E\" acodec=\"mp4a.40.2\" progressive=\"True\" type=\"video\">,\n",
       " <Stream: itag=\"22\" mime_type=\"video/mp4\" res=\"720p\" fps=\"30fps\" vcodec=\"avc1.64001F\" acodec=\"mp4a.40.2\" progressive=\"True\" type=\"video\">,\n",
       " <Stream: itag=\"137\" mime_type=\"video/mp4\" res=\"1080p\" fps=\"30fps\" vcodec=\"avc1.640028\" progressive=\"False\" type=\"video\">,\n",
       " <Stream: itag=\"248\" mime_type=\"video/webm\" res=\"1080p\" fps=\"30fps\" vcodec=\"vp9\" progressive=\"False\" type=\"video\">,\n",
       " <Stream: itag=\"136\" mime_type=\"video/mp4\" res=\"720p\" fps=\"30fps\" vcodec=\"avc1.64001f\" progressive=\"False\" type=\"video\">,\n",
       " <Stream: itag=\"247\" mime_type=\"video/webm\" res=\"720p\" fps=\"30fps\" vcodec=\"vp9\" progressive=\"False\" type=\"video\">,\n",
       " <Stream: itag=\"135\" mime_type=\"video/mp4\" res=\"480p\" fps=\"30fps\" vcodec=\"avc1.4d401f\" progressive=\"False\" type=\"video\">,\n",
       " <Stream: itag=\"244\" mime_type=\"video/webm\" res=\"480p\" fps=\"30fps\" vcodec=\"vp9\" progressive=\"False\" type=\"video\">,\n",
       " <Stream: itag=\"134\" mime_type=\"video/mp4\" res=\"360p\" fps=\"30fps\" vcodec=\"avc1.4d401e\" progressive=\"False\" type=\"video\">,\n",
       " <Stream: itag=\"243\" mime_type=\"video/webm\" res=\"360p\" fps=\"30fps\" vcodec=\"vp9\" progressive=\"False\" type=\"video\">,\n",
       " <Stream: itag=\"133\" mime_type=\"video/mp4\" res=\"240p\" fps=\"30fps\" vcodec=\"avc1.4d4015\" progressive=\"False\" type=\"video\">,\n",
       " <Stream: itag=\"242\" mime_type=\"video/webm\" res=\"240p\" fps=\"30fps\" vcodec=\"vp9\" progressive=\"False\" type=\"video\">,\n",
       " <Stream: itag=\"160\" mime_type=\"video/mp4\" res=\"144p\" fps=\"30fps\" vcodec=\"avc1.4d400c\" progressive=\"False\" type=\"video\">,\n",
       " <Stream: itag=\"278\" mime_type=\"video/webm\" res=\"144p\" fps=\"30fps\" vcodec=\"vp9\" progressive=\"False\" type=\"video\">,\n",
       " <Stream: itag=\"139\" mime_type=\"audio/mp4\" abr=\"48kbps\" acodec=\"mp4a.40.5\" progressive=\"False\" type=\"audio\">,\n",
       " <Stream: itag=\"140\" mime_type=\"audio/mp4\" abr=\"128kbps\" acodec=\"mp4a.40.2\" progressive=\"False\" type=\"audio\">,\n",
       " <Stream: itag=\"249\" mime_type=\"audio/webm\" abr=\"50kbps\" acodec=\"opus\" progressive=\"False\" type=\"audio\">,\n",
       " <Stream: itag=\"250\" mime_type=\"audio/webm\" abr=\"70kbps\" acodec=\"opus\" progressive=\"False\" type=\"audio\">,\n",
       " <Stream: itag=\"251\" mime_type=\"audio/webm\" abr=\"160kbps\" acodec=\"opus\" progressive=\"False\" type=\"audio\">]"
      ]
     },
     "execution_count": 19,
     "metadata": {},
     "output_type": "execute_result"
    }
   ],
   "source": [
    "yt.streams.all()"
   ]
  },
  {
   "cell_type": "code",
   "execution_count": 5,
   "id": "90e18cce",
   "metadata": {},
   "outputs": [
    {
     "name": "stderr",
     "output_type": "stream",
     "text": [
      "C:\\Users\\82102\\AppData\\Local\\Temp/ipykernel_30480/4102320464.py:2: DeprecationWarning: Call to deprecated function all (This object can be treated as a list, all() is useless).\n",
      "  stream = yt.streams.all()[0]\n"
     ]
    },
    {
     "data": {
      "text/plain": [
       "<Stream: itag=\"17\" mime_type=\"video/3gpp\" res=\"144p\" fps=\"7fps\" vcodec=\"mp4v.20.3\" acodec=\"mp4a.40.2\" progressive=\"True\" type=\"video\">"
      ]
     },
     "execution_count": 5,
     "metadata": {},
     "output_type": "execute_result"
    }
   ],
   "source": [
    "# 전송 포맷 중 첫번째 선택\n",
    "stream = yt.streams.all()[0]\n",
    "stream   # <Stream: itag=\"18\" mime_type=\"video/mp4\" res=\"360p\" fps=\"30fps\" vcodec=\"avc1.42001E\" acodec=\"mp4a.40.2\" progressive=\"True\" type=\"video\">"
   ]
  },
  {
   "cell_type": "code",
   "execution_count": 6,
   "id": "e01acd52",
   "metadata": {},
   "outputs": [
    {
     "name": "stderr",
     "output_type": "stream",
     "text": [
      "C:\\Users\\82102\\AppData\\Local\\Temp/ipykernel_13160/1364831814.py:3: DeprecationWarning: Call to deprecated function all (This object can be treated as a list, all() is useless).\n",
      "  yt.streams.filter(only_audio = True).all()\n"
     ]
    },
    {
     "data": {
      "text/plain": [
       "[<Stream: itag=\"139\" mime_type=\"audio/mp4\" abr=\"48kbps\" acodec=\"mp4a.40.5\" progressive=\"False\" type=\"audio\">,\n",
       " <Stream: itag=\"140\" mime_type=\"audio/mp4\" abr=\"128kbps\" acodec=\"mp4a.40.2\" progressive=\"False\" type=\"audio\">,\n",
       " <Stream: itag=\"249\" mime_type=\"audio/webm\" abr=\"50kbps\" acodec=\"opus\" progressive=\"False\" type=\"audio\">,\n",
       " <Stream: itag=\"250\" mime_type=\"audio/webm\" abr=\"70kbps\" acodec=\"opus\" progressive=\"False\" type=\"audio\">,\n",
       " <Stream: itag=\"251\" mime_type=\"audio/webm\" abr=\"160kbps\" acodec=\"opus\" progressive=\"False\" type=\"audio\">]"
      ]
     },
     "execution_count": 6,
     "metadata": {},
     "output_type": "execute_result"
    }
   ],
   "source": [
    "# 내가 원하는 영상만 선택하기\n",
    "# 음성만 선택시\n",
    "yt.streams.filter(only_audio = True).all()"
   ]
  },
  {
   "cell_type": "code",
   "execution_count": 7,
   "id": "48de5a57",
   "metadata": {},
   "outputs": [
    {
     "name": "stderr",
     "output_type": "stream",
     "text": [
      "C:\\Users\\82102\\AppData\\Local\\Temp/ipykernel_13160/1642139308.py:3: DeprecationWarning: Call to deprecated function all (This object can be treated as a list, all() is useless).\n",
      "  yt.streams.filter(file_extension = 'mp4').all( )\n"
     ]
    },
    {
     "data": {
      "text/plain": [
       "[<Stream: itag=\"18\" mime_type=\"video/mp4\" res=\"360p\" fps=\"30fps\" vcodec=\"avc1.42001E\" acodec=\"mp4a.40.2\" progressive=\"True\" type=\"video\">,\n",
       " <Stream: itag=\"22\" mime_type=\"video/mp4\" res=\"720p\" fps=\"30fps\" vcodec=\"avc1.64001F\" acodec=\"mp4a.40.2\" progressive=\"True\" type=\"video\">,\n",
       " <Stream: itag=\"137\" mime_type=\"video/mp4\" res=\"1080p\" fps=\"30fps\" vcodec=\"avc1.640028\" progressive=\"False\" type=\"video\">,\n",
       " <Stream: itag=\"399\" mime_type=\"video/mp4\" res=\"1080p\" fps=\"30fps\" vcodec=\"av01.0.08M.08\" progressive=\"False\" type=\"video\">,\n",
       " <Stream: itag=\"136\" mime_type=\"video/mp4\" res=\"720p\" fps=\"30fps\" vcodec=\"avc1.4d401f\" progressive=\"False\" type=\"video\">,\n",
       " <Stream: itag=\"398\" mime_type=\"video/mp4\" res=\"720p\" fps=\"30fps\" vcodec=\"av01.0.05M.08\" progressive=\"False\" type=\"video\">,\n",
       " <Stream: itag=\"135\" mime_type=\"video/mp4\" res=\"480p\" fps=\"30fps\" vcodec=\"avc1.4d401f\" progressive=\"False\" type=\"video\">,\n",
       " <Stream: itag=\"397\" mime_type=\"video/mp4\" res=\"480p\" fps=\"30fps\" vcodec=\"av01.0.04M.08\" progressive=\"False\" type=\"video\">,\n",
       " <Stream: itag=\"134\" mime_type=\"video/mp4\" res=\"360p\" fps=\"30fps\" vcodec=\"avc1.4d401e\" progressive=\"False\" type=\"video\">,\n",
       " <Stream: itag=\"396\" mime_type=\"video/mp4\" res=\"360p\" fps=\"30fps\" vcodec=\"av01.0.01M.08\" progressive=\"False\" type=\"video\">,\n",
       " <Stream: itag=\"133\" mime_type=\"video/mp4\" res=\"240p\" fps=\"30fps\" vcodec=\"avc1.4d4015\" progressive=\"False\" type=\"video\">,\n",
       " <Stream: itag=\"395\" mime_type=\"video/mp4\" res=\"240p\" fps=\"30fps\" vcodec=\"av01.0.00M.08\" progressive=\"False\" type=\"video\">,\n",
       " <Stream: itag=\"160\" mime_type=\"video/mp4\" res=\"144p\" fps=\"30fps\" vcodec=\"avc1.4d400c\" progressive=\"False\" type=\"video\">,\n",
       " <Stream: itag=\"394\" mime_type=\"video/mp4\" res=\"144p\" fps=\"30fps\" vcodec=\"av01.0.00M.08\" progressive=\"False\" type=\"video\">,\n",
       " <Stream: itag=\"139\" mime_type=\"audio/mp4\" abr=\"48kbps\" acodec=\"mp4a.40.5\" progressive=\"False\" type=\"audio\">,\n",
       " <Stream: itag=\"140\" mime_type=\"audio/mp4\" abr=\"128kbps\" acodec=\"mp4a.40.2\" progressive=\"False\" type=\"audio\">]"
      ]
     },
     "execution_count": 7,
     "metadata": {},
     "output_type": "execute_result"
    }
   ],
   "source": [
    "# 내가 원하는 영상만 선택하기\n",
    "# mp4만\n",
    "yt.streams.filter(file_extension = 'mp4').all( )"
   ]
  },
  {
   "cell_type": "code",
   "execution_count": 8,
   "id": "188f8382",
   "metadata": {},
   "outputs": [
    {
     "name": "stderr",
     "output_type": "stream",
     "text": [
      "C:\\Users\\82102\\AppData\\Local\\Temp/ipykernel_13160/3811381480.py:1: DeprecationWarning: Call to deprecated function all (This object can be treated as a list, all() is useless).\n",
      "  stream = yt.streams.filter(file_extension = 'mp4').all( )[0]\n"
     ]
    },
    {
     "data": {
      "text/plain": [
       "<Stream: itag=\"18\" mime_type=\"video/mp4\" res=\"360p\" fps=\"30fps\" vcodec=\"avc1.42001E\" acodec=\"mp4a.40.2\" progressive=\"True\" type=\"video\">"
      ]
     },
     "execution_count": 8,
     "metadata": {},
     "output_type": "execute_result"
    }
   ],
   "source": [
    "stream = yt.streams.filter(file_extension = 'mp4').all( )[0]\n",
    "stream   # <Stream: itag=\"18\" mime_type=\"video/mp4\" res=\"360p\" fps=\"30fps\" vcodec=\"avc1.42001E\" acodec=\"mp4a.40.2\" progressive=\"True\" type=\"video\">"
   ]
  },
  {
   "cell_type": "code",
   "execution_count": 9,
   "id": "de811794",
   "metadata": {},
   "outputs": [
    {
     "data": {
      "text/plain": [
       "'C:\\\\Users\\\\82102\\\\Desktop\\\\4월 프로젝트\\\\(Kor)뼈를 깎는 노력이 반드시 실패하는 이유  이지영 이투스 강사 @이지영 [Leejiyoung Official]  동기부여 공부 노력   세바시 1491회.mp4'"
      ]
     },
     "execution_count": 9,
     "metadata": {},
     "output_type": "execute_result"
    }
   ],
   "source": [
    "# 영상 다운로드\n",
    "stream.download()"
   ]
  },
  {
   "cell_type": "code",
   "execution_count": 10,
   "id": "5dd081c6",
   "metadata": {},
   "outputs": [
    {
     "data": {
      "text/plain": [
       "'C:\\\\Users\\\\82102\\\\Desktop\\\\4월 프로젝트\\\\test\\\\R.I.P_KOBE'"
      ]
     },
     "execution_count": 10,
     "metadata": {},
     "output_type": "execute_result"
    }
   ],
   "source": [
    "# 파일 이름 지정 \n",
    "## 폴더지정 가능\n",
    "stream.download(output_path='test', filename = 'KOBE', filename_prefix= 'R.I.P_')\n"
   ]
  },
  {
   "cell_type": "markdown",
   "id": "c4652874",
   "metadata": {},
   "source": [
    "#  영상 자막 가져오기"
   ]
  },
  {
   "cell_type": "code",
   "execution_count": 106,
   "id": "7725eb89",
   "metadata": {},
   "outputs": [
    {
     "name": "stderr",
     "output_type": "stream",
     "text": [
      "C:\\Users\\82102\\AppData\\Local\\Temp/ipykernel_17432/717592768.py:1: DeprecationWarning: Call to deprecated function all (This object can be treated as a dictionary).\n",
      "  yt.captions.all()\n"
     ]
    },
    {
     "data": {
      "text/plain": [
       "[<Caption lang=\"Korean (auto-generated)\" code=\"a.ko\">]"
      ]
     },
     "execution_count": 106,
     "metadata": {},
     "output_type": "execute_result"
    }
   ],
   "source": [
    "yt.captions.all()"
   ]
  },
  {
   "cell_type": "code",
   "execution_count": 107,
   "id": "81902223",
   "metadata": {},
   "outputs": [
    {
     "name": "stderr",
     "output_type": "stream",
     "text": [
      "C:\\Users\\82102\\AppData\\Local\\Temp/ipykernel_17432/3952677728.py:1: DeprecationWarning: Call to deprecated function get_by_language_code (This object can be treated as a dictionary, i.e. captions['en']).\n",
      "  caption = yt.captions.get_by_language_code('ko.7XP2tGORuV4')\n"
     ]
    }
   ],
   "source": [
    "caption = yt.captions.get_by_language_code('ko.7XP2tGORuV4')"
   ]
  },
  {
   "cell_type": "code",
   "execution_count": 108,
   "id": "564193c5",
   "metadata": {},
   "outputs": [
    {
     "name": "stderr",
     "output_type": "stream",
     "text": [
      "C:\\Users\\82102\\AppData\\Local\\Temp/ipykernel_17432/715879871.py:3: DeprecationWarning: Call to deprecated function get_by_language_code (This object can be treated as a dictionary, i.e. captions['en']).\n",
      "  caption = yt.captions.get_by_language_code('ko.7XP2tGORuV4')\n",
      "C:\\Users\\82102\\AppData\\Local\\Temp/ipykernel_17432/715879871.py:5: DeprecationWarning: Call to deprecated function all (This object can be treated as a dictionary).\n",
      "  caption = yt.captions.all()[0]\n"
     ]
    }
   ],
   "source": [
    "# 언어로 자막 선택하기\n",
    "## 한글 자막 1순위로 선택하기. 만약 한글 자막이 없다면 자막 리스트 중 첫 번째 자막 선택하기\n",
    "caption = yt.captions.get_by_language_code('ko.7XP2tGORuV4')\n",
    "if caption == None:\n",
    "    caption = yt.captions.all()[0]"
   ]
  },
  {
   "cell_type": "code",
   "execution_count": 109,
   "id": "f3dc6e4d",
   "metadata": {},
   "outputs": [
    {
     "data": {
      "text/plain": [
       "'<?xml version=\"1.0\" encoding=\"utf-8\" ?><timedtext format=\"3\">\\n<head>\\n<ws id=\"0\"/>\\n<ws id=\"1\" mh=\"2\" ju=\"0\" sd=\"3\"/>\\n<wp id=\"0\"/>\\n<wp id=\"1\" ap=\"6\" ah=\"20\" av=\"100\" rc=\"2\" cc=\"40\"/>\\n</head>\\n<body>\\n<w t=\"0\" id=\"1\" wp=\"1\" ws=\"1\"/>\\n<p t=\"0\" d=\"5009\" w=\"1\"><s ac=\"240\">구매</s><s t=\"299\" ac=\"252\"> 개수를</s><s t=\"810\" ac=\"252\"> 제한할</s><s t=\"1500\" ac=\"241\"> 정도로</s><s t=\"1979\" ac=\"249\"> 지금</s></p>\\n<p t=\"2360\" d=\"2649\" w=\"1\" a=\"1\">\\n</p>\\n<p t=\"2370\" d=\"4889\" w=\"1\"><s ac=\"201\">그야말로</s><s t=\"600\" ac=\"236\"> 식용류</s><s t=\"1170\" ac=\"239\"> 대란</s><s t=\"1559\" ac=\"255\"> 입니다</s></p>\\n<p t=\"4999\" d=\"2260\" w=\"1\" a=\"1\">\\n</p>\\n<p t=\"5009\" d=\"4081\" w=\"1\"><s ac=\"187\">치킨은</s><s t=\"391\" ac=\"210\"> 먼로</s><s t=\"631\" ac=\"227\"> 채</s><s t=\"781\" ac=\"227\"> 지나</s><s t=\"1020\" ac=\"212\"> 자영업자</s><s t=\"1921\" ac=\"227\"> 분들의</s></p>\\n<p t=\"7249\" d=\"1841\" w=\"1\" a=\"1\">\\n</p>\\n<p t=\"7259\" d=\"3960\" w=\"1\"><s ac=\"135\">하소연도</s><s t=\"481\" ac=\"226\"> 이어지고</s><s t=\"901\" ac=\"255\"> 있는데요</s></p>\\n<p t=\"9080\" d=\"2139\" w=\"1\" a=\"1\">\\n</p>\\n<p t=\"9090\" d=\"4320\" w=\"1\"><s ac=\"252\">어려운</s><s t=\"450\" ac=\"236\"> 사정은</s><s t=\"870\" ac=\"252\"> 국내</s><s t=\"1170\" ac=\"239\"> 뿐만이</s><s t=\"1379\" ac=\"255\"> 아닙니다</s></p>\\n<p t=\"11209\" d=\"2201\" w=\"1\" a=\"1\">\\n</p>\\n<p t=\"11219\" d=\"4111\" w=\"1\"><s ac=\"222\">지금</s><s t=\"210\" ac=\"160\"> 전세계가</s><s t=\"811\" ac=\"186\"> 그야말로</s><s t=\"1651\" ac=\"171\"> 식용유</s></p>\\n<p t=\"13400\" d=\"1930\" w=\"1\" a=\"1\">\\n</p>\\n<p t=\"13410\" d=\"3840\" w=\"1\"><s ac=\"200\">보릿고개</s><s t=\"630\" ac=\"200\"> 를</s><s t=\"689\" ac=\"252\"> 넘고</s><s t=\"1019\" ac=\"252\"> 있습니다</s></p>\\n<p t=\"15320\" d=\"1930\" w=\"1\" a=\"1\">\\n</p>\\n<p t=\"15330\" d=\"4590\" w=\"1\"><s ac=\"252\">앞서</s><s t=\"330\" ac=\"252\"> 터키</s><s t=\"809\" ac=\"252\"> 스페인</s><s t=\"1110\" ac=\"252\"> 벨기에</s><s t=\"1590\" ac=\"252\"> 등</s><s t=\"1830\" ac=\"252\"> 유럽</s></p>\\n<p t=\"17240\" d=\"2680\" w=\"1\" a=\"1\">\\n</p>\\n<p t=\"17250\" d=\"4859\" w=\"1\"><s ac=\"227\">각국의</s><s t=\"539\" ac=\"203\"> 대형</s><s t=\"840\" ac=\"204\"> 마트에서도</s><s t=\"1410\" ac=\"178\"> 식용유에</s><s t=\"2369\" ac=\"233\"> 구매</s></p>\\n<p t=\"19910\" d=\"2199\" w=\"1\" a=\"1\">\\n</p>\\n<p t=\"19920\" d=\"4680\" w=\"1\"><s ac=\"249\">개수를</s><s t=\"420\" ac=\"201\"> 제안한</s><s t=\"840\" ac=\"217\"> 바</s><s t=\"990\" ac=\"243\"> 있는데요</s><s t=\"1350\" ac=\"88\"> 특히</s></p>\\n<p t=\"22099\" d=\"2501\" w=\"1\" a=\"1\">\\n</p>\\n<p t=\"22109\" d=\"5401\" w=\"1\"><s ac=\"252\">영국의</s><s t=\"451\" ac=\"252\"> 대표적인</s><s t=\"961\" ac=\"232\"> 튀김</s><s t=\"1321\" ac=\"247\"> 체인점인</s><s t=\"1951\" ac=\"59\"> pcn</s></p>\\n<p t=\"24590\" d=\"2920\" w=\"1\" a=\"1\">\\n</p>\\n<p t=\"24600\" d=\"5550\" w=\"1\"><s ac=\"188\">집수</s><s t=\"300\" ac=\"188\"> 가</s><s t=\"450\" ac=\"102\"> 3</s><s t=\"810\" ac=\"139\"> 천군</s><s t=\"1320\" ac=\"252\"> 넘게</s><s t=\"1620\" ac=\"252\"> 문을</s><s t=\"1950\" ac=\"219\"> 닫고</s></p>\\n<p t=\"27500\" d=\"2650\" w=\"1\" a=\"1\">\\n</p>\\n<p t=\"27510\" d=\"4410\" w=\"1\"><s ac=\"226\">영국</s><s t=\"390\" ac=\"252\"> 정부까지</s><s t=\"660\" ac=\"246\"> 나서</s><s t=\"1140\" ac=\"252\"> 체인점</s><s t=\"1919\" ac=\"220\"> 패전</s><s t=\"2370\" ac=\"207\"> 위기</s></p>\\n<p t=\"30140\" d=\"1780\" w=\"1\" a=\"1\">\\n</p>\\n<p t=\"30150\" d=\"3990\" w=\"1\"><s ac=\"207\">를</s><s t=\"90\" ac=\"207\"> 경보</s><s t=\"539\" ac=\"243\"> 할</s><s t=\"660\" ac=\"207\"> 정돕니다</s></p>\\n<p t=\"31910\" d=\"2230\" w=\"1\" a=\"1\">\\n</p>\\n<p t=\"31920\" d=\"4920\" w=\"1\"><s ac=\"247\">그렇다면</s><s t=\"540\" ac=\"119\"> 전세계</s><s t=\"1170\" ac=\"248\"> 식용류</s><s t=\"1680\" ac=\"200\"> 대라</s><s t=\"2069\" ac=\"201\"> 내</s></p>\\n<p t=\"34130\" d=\"2710\" w=\"1\" a=\"1\">\\n</p>\\n<p t=\"34140\" d=\"5280\" w=\"1\"><s ac=\"200\">이유는</s><s t=\"720\" ac=\"247\"> 무엇일까요</s><s t=\"1829\" ac=\"251\"> 세계적으로</s><s t=\"2430\" ac=\"252\"> 가장</s></p>\\n<p t=\"36830\" d=\"2590\" w=\"1\" a=\"1\">\\n</p>\\n<p t=\"36840\" d=\"5370\" w=\"1\"><s ac=\"236\">많이</s><s t=\"330\" ac=\"236\"> 쓰는</s><s t=\"600\" ac=\"217\"> 3대의</s><s t=\"1020\" ac=\"237\"> 식용유는</s><s t=\"1580\" ac=\"200\"> 카놀라유</s></p>\\n<p t=\"39410\" d=\"2800\" w=\"1\" a=\"1\">\\n</p>\\n<p t=\"39420\" d=\"5069\" w=\"1\"><s ac=\"252\">콩기름</s><s t=\"420\" ac=\"142\"> 그리고</s><s t=\"1260\" ac=\"217\"> 팜유</s><s t=\"1680\" ac=\"251\"> 입니다</s><s t=\"2370\" ac=\"177\"> 그중에</s></p>\\n<p t=\"42200\" d=\"2289\" w=\"1\" a=\"1\">\\n</p>\\n<p t=\"42210\" d=\"4980\" w=\"1\"><s ac=\"252\">카놀라유</s><s t=\"779\" ac=\"252\"> 최대</s><s t=\"1110\" ac=\"252\"> 수출국인</s><s t=\"1650\" ac=\"223\"> 캐나다와</s></p>\\n<p t=\"44479\" d=\"2711\" w=\"1\" a=\"1\">\\n</p>\\n<p t=\"44489\" d=\"5401\" w=\"1\"><s ac=\"200\">콩기름</s><s t=\"901\" ac=\"246\"> 원료</s><s t=\"1410\" ac=\"82\"> 2</s><s t=\"1590\" ac=\"118\"> 대두에</s><s t=\"2131\" ac=\"255\"> 주산지</s></p>\\n<p t=\"47180\" d=\"2710\" w=\"1\" a=\"1\">\\n</p>\\n<p t=\"47190\" d=\"5700\" w=\"1\"><s ac=\"245\">남미에서</s><s t=\"740\" ac=\"168\"> 지난해부터</s><s t=\"1740\" ac=\"252\"> 극심한</s><s t=\"2189\" ac=\"252\"> 가뭄이</s></p>\\n<p t=\"49880\" d=\"3010\" w=\"1\" a=\"1\">\\n</p>\\n<p t=\"49890\" d=\"5340\" w=\"1\"><s ac=\"132\">이어준</s><s t=\"480\" ac=\"255\"> 탓에</s><s t=\"810\" ac=\"217\"> 작황이</s><s t=\"1649\" ac=\"252\"> 부진해</s><s t=\"2009\" ac=\"155\"> 쪼</s><s t=\"2669\" ac=\"252\"> 보통</s></p>\\n<p t=\"52880\" d=\"2350\" w=\"1\" a=\"1\">\\n</p>\\n<p t=\"52890\" d=\"5250\" w=\"1\"><s ac=\"248\">이런</s><s t=\"239\" ac=\"242\"> 3월에</s><s t=\"599\" ac=\"247\"> 30</s><s t=\"1230\" ac=\"232\"> 해바라기</s><s t=\"1860\" ac=\"226\"> 수유가</s></p>\\n<p t=\"55220\" d=\"2920\" w=\"1\" a=\"1\">\\n</p>\\n<p t=\"55230\" d=\"5730\" w=\"1\"><s ac=\"186\">대안이</s><s t=\"719\" ac=\"252\"> 되고</s><s t=\"930\" ac=\"131\"> 나중</s><s t=\"1590\" ac=\"216\"> 근데</s><s t=\"1919\" ac=\"131\"> 2패</s><s t=\"2579\" ac=\"207\"> 바라기</s></p>\\n<p t=\"58130\" d=\"2830\" w=\"1\" a=\"1\">\\n</p>\\n<p t=\"58140\" d=\"4770\" w=\"1\"><s ac=\"174\">cu</s><s t=\"270\" ac=\"247\"> 수출</s><s t=\"660\" ac=\"202\"> 12b</s><s t=\"1259\" ac=\"235\"> 국가가</s><s t=\"1739\" ac=\"122\"> 루프</s><s t=\"2579\" ac=\"206\"> 라인</s></p>\\n<p t=\"60950\" d=\"1960\" w=\"1\" a=\"1\">\\n</p>\\n<p t=\"60960\" d=\"4199\" w=\"1\"><s ac=\"170\">아와</s><s t=\"239\" ac=\"226\"> 러시아</s><s t=\"630\" ac=\"242\"> 합니다</s><s t=\"1320\" ac=\"222\"> 두</s><s t=\"1470\" ac=\"247\"> 나라는</s><s t=\"1770\" ac=\"229\"> 현재</s></p>\\n<p t=\"62900\" d=\"2259\" w=\"1\" a=\"1\">\\n</p>\\n<p t=\"62910\" d=\"4680\" w=\"1\"><s ac=\"237\">전쟁</s><s t=\"480\" ac=\"247\"> 중이죠</s><s t=\"1109\" ac=\"252\"> 특히</s><s t=\"1529\" ac=\"143\"> 오프라인</s><s t=\"2010\" ac=\"71\"> 않은</s></p>\\n<p t=\"65149\" d=\"2441\" w=\"1\" a=\"1\">\\n</p>\\n<p t=\"65159\" d=\"4561\" w=\"1\"><s ac=\"216\">해바라기씨유</s><s t=\"811\" ac=\"213\"> 생산</s><s t=\"1351\" ac=\"204\"> 양</s><s t=\"1500\" ac=\"204\"> 의</s><s t=\"1561\" ac=\"249\"> 절반</s><s t=\"2041\" ac=\"249\"> 가량을</s></p>\\n<p t=\"67580\" d=\"2140\" w=\"1\" a=\"1\">\\n</p>\\n<p t=\"67590\" d=\"4170\" w=\"1\"><s ac=\"255\">차지하고</s><s t=\"360\" ac=\"247\"> 있기</s><s t=\"569\" ac=\"245\"> 때문에</s><s t=\"930\" ac=\"170\"> 부족</s><s t=\"1650\" ac=\"247\"> 현상은</s></p>\\n<p t=\"69710\" d=\"2050\" w=\"1\" a=\"1\">\\n</p>\\n<p t=\"69720\" d=\"4590\" w=\"1\"><s ac=\"252\">더욱</s><s t=\"480\" ac=\"152\"> 악화되었습니다</s></p>\\n<p t=\"71750\" d=\"2560\" w=\"1\" a=\"1\">\\n</p>\\n<p t=\"71760\" d=\"4620\" w=\"1\"><s ac=\"252\">전쟁의</s><s t=\"390\" ac=\"252\"> 여파</s><s t=\"690\" ac=\"246\"> 른</s><s t=\"929\" ac=\"243\"> 남은</s><s t=\"1410\" ac=\"198\"> 대안인</s><s t=\"1980\" ac=\"201\"> 합류</s></p>\\n<p t=\"74300\" d=\"2080\" w=\"1\" a=\"1\">\\n</p>\\n<p t=\"74310\" d=\"4559\" w=\"1\"><s ac=\"252\">에도</s><s t=\"150\" ac=\"252\"> 영향을</s><s t=\"390\" ac=\"252\"> 미쳤습니다</s><s t=\"1290\" ac=\"200\"> 세계</s><s t=\"1770\" ac=\"200\"> 최대</s></p>\\n<p t=\"76370\" d=\"2499\" w=\"1\" a=\"1\">\\n</p>\\n<p t=\"76380\" d=\"5489\" w=\"1\"><s ac=\"236\">팜유</s><s t=\"330\" ac=\"248\"> 생산국인</s><s t=\"989\" ac=\"241\"> 인도네시아가</s><s t=\"1739\" ac=\"133\"> 지나</s><s t=\"2220\" ac=\"145\"> 닦기</s></p>\\n<p t=\"78859\" d=\"3010\" w=\"1\" a=\"1\">\\n</p>\\n<p t=\"78869\" d=\"4110\" w=\"1\"><s ac=\"215\">시프트</s><s t=\"390\" ac=\"125\"> l3</s><s t=\"1201\" ac=\"82\"> 뉴스를</s><s t=\"1890\" ac=\"166\"> 막아</s><s t=\"2701\" ac=\"252\"> 버렸기</s></p>\\n<p t=\"81859\" d=\"1120\" w=\"1\" a=\"1\">\\n</p>\\n<p t=\"81869\" d=\"2790\" w=\"1\"><s ac=\"233\">때문입니다</s></p>\\n<p t=\"82969\" d=\"1690\" w=\"1\" a=\"1\">\\n</p>\\n<p t=\"82979\" d=\"4291\" w=\"1\"><s ac=\"217\">전쟁으로</s><s t=\"511\" ac=\"151\"> 식용류</s><s t=\"960\" ac=\"252\"> 가격이</s><s t=\"1291\" ac=\"252\"> 치솟자</s></p>\\n<p t=\"84649\" d=\"2621\" w=\"1\" a=\"1\">\\n</p>\\n<p t=\"84659\" d=\"5280\" w=\"1\"><s ac=\"205\">인도네시아</s><s t=\"991\" ac=\"244\"> 팝뉴스</s><s t=\"1350\" ac=\"255\"> 업자들이</s><s t=\"1831\" ac=\"164\"> 합류를</s><s t=\"2521\" ac=\"249\"> 더</s></p>\\n<p t=\"87260\" d=\"2679\" w=\"1\" a=\"1\">\\n</p>\\n<p t=\"87270\" d=\"4830\" w=\"1\"><s ac=\"252\">비싸게</s><s t=\"419\" ac=\"252\"> 팔기</s><s t=\"750\" ac=\"252\"> 위해서</s><s t=\"1110\" ac=\"166\"> 생산</s><s t=\"1919\" ac=\"127\"> 양</s><s t=\"2130\" ac=\"205\"> 대부분을</s></p>\\n<p t=\"89929\" d=\"2171\" w=\"1\" a=\"1\">\\n</p>\\n<p t=\"89939\" d=\"5430\" w=\"1\"><s ac=\"205\">스틸</s><s t=\"271\" ac=\"255\"> 하면서</s><s t=\"661\" ac=\"208\"> 국내</s><s t=\"1290\" ac=\"236\"> 군이</s><s t=\"1470\" ac=\"252\"> 부족해</s><s t=\"1860\" ac=\"252\"> 졌고</s></p>\\n<p t=\"92090\" d=\"3279\" w=\"1\" a=\"1\">\\n</p>\\n<p t=\"92100\" d=\"5909\" w=\"1\"><s ac=\"252\">결국</s><s t=\"600\" ac=\"212\"> 인도네</s><s t=\"1229\" ac=\"246\"> 있어야</s><s t=\"1500\" ac=\"222\"> 정부가</s><s t=\"1920\" ac=\"222\"> 나서</s><s t=\"2280\" ac=\"201\"> 수출</s></p>\\n<p t=\"95359\" d=\"2650\" w=\"1\" a=\"1\">\\n</p>\\n<p t=\"95369\" d=\"4680\" w=\"1\"><s ac=\"252\">금지</s><s t=\"511\" ac=\"240\"> 조치를</s><s t=\"901\" ac=\"212\"> 반응</s></p>\\n<p t=\"97999\" d=\"2050\" w=\"1\" a=\"1\">\\n</p>\\n<p t=\"98009\" d=\"4411\" w=\"1\"><s ac=\"247\">결국</s><s t=\"391\" ac=\"202\"> 우리나라도</s><s t=\"991\" ac=\"252\"> 우크라이나</s><s t=\"1591\" ac=\"238\"> 전작의</s></p>\\n<p t=\"100039\" d=\"2381\" w=\"1\" a=\"1\">\\n</p>\\n<p t=\"100049\" d=\"4471\" w=\"1\"><s ac=\"255\">여진을</s><s t=\"481\" ac=\"237\"> 겪는</s><s t=\"841\" ac=\"252\"> 것이나</s><s t=\"1140\" ac=\"216\"> 마찬가지입니다</s></p>\\n<p t=\"102410\" d=\"2110\" w=\"1\" a=\"1\">\\n</p>\\n<p t=\"102420\" d=\"4140\" w=\"1\"><s ac=\"243\">국내</s><s t=\"210\" ac=\"242\"> 식용유</s><s t=\"629\" ac=\"252\"> 가격이</s><s t=\"930\" ac=\"252\"> 오르고</s><s t=\"1470\" ac=\"148\"> 900</s></p>\\n<p t=\"104510\" d=\"2050\" w=\"1\" a=\"1\">\\n</p>\\n<p t=\"104520\" d=\"4590\" w=\"1\"><s ac=\"204\">갯수</s><s t=\"300\" ac=\"226\"> 까지</s><s t=\"540\" ac=\"246\"> 제안하자</s><s t=\"1050\" ac=\"166\"> 우려의</s><s t=\"1650\" ac=\"252\"> 목소리는</s></p>\\n<p t=\"106550\" d=\"2560\" w=\"1\" a=\"1\">\\n</p>\\n<p t=\"106560\" d=\"4620\" w=\"1\"><s ac=\"252\">더욱</s><s t=\"210\" ac=\"252\"> 커지고</s><s t=\"480\" ac=\"248\"> 있는데요</s><s t=\"1379\" ac=\"255\"> 다만</s><s t=\"1800\" ac=\"245\"> 국내에서는</s></p>\\n<p t=\"109100\" d=\"2080\" w=\"1\" a=\"1\">\\n</p>\\n<p t=\"109110\" d=\"5100\" w=\"1\"><s ac=\"247\">말레이시아산</s><s t=\"840\" ac=\"234\"> 판</s><s t=\"1230\" ac=\"165\"> u</s><s t=\"1350\" ac=\"252\"> 를</s><s t=\"1439\" ac=\"245\"> 주로</s><s t=\"1680\" ac=\"248\"> 사용하고</s></p>\\n<p t=\"111170\" d=\"3040\" w=\"1\" a=\"1\">\\n</p>\\n<p t=\"111180\" d=\"5670\" w=\"1\"><s ac=\"186\">아직까지</s><s t=\"899\" ac=\"187\"> 원죄로</s><s t=\"1439\" ac=\"156\"> 수</s><s t=\"1649\" ac=\"148\"> 배도</s><s t=\"2070\" ac=\"200\"> 큰</s><s t=\"2640\" ac=\"247\"> 문제가</s></p>\\n<p t=\"114200\" d=\"2650\" w=\"1\" a=\"1\">\\n</p>\\n<p t=\"114210\" d=\"4320\" w=\"1\"><s ac=\"188\">없다는게</s><s t=\"570\" ac=\"134\"> 전문가</s><s t=\"1470\" ac=\"201\"> 의견</s><s t=\"1890\" ac=\"201\"> 입니다</s></p>\\n<p t=\"116840\" d=\"1690\" w=\"1\" a=\"1\">\\n</p>\\n<p t=\"116850\" d=\"3869\" w=\"1\"><s ac=\"252\">게다가</s><s t=\"330\" ac=\"213\"> 이</s><s t=\"449\" ac=\"168\"> 돈에</s><s t=\"720\" ac=\"157\"> 시아의</s><s t=\"990\" ac=\"236\"> 수출</s><s t=\"1379\" ac=\"252\"> 제한</s></p>\\n<p t=\"118520\" d=\"2199\" w=\"1\" a=\"1\">\\n</p>\\n<p t=\"118530\" d=\"3990\" w=\"1\"><s ac=\"248\">조치도</s><s t=\"449\" ac=\"250\"> 완화될</s><s t=\"1049\" ac=\"248\"> 가능성이</s><s t=\"1560\" ac=\"255\"> 나오는</s><s t=\"1860\" ac=\"255\"> 만큼</s></p>\\n<p t=\"120709\" d=\"1811\" w=\"1\" a=\"1\">\\n</p>\\n<p t=\"120719\" d=\"4040\" w=\"1\"><s ac=\"167\">수위를</s><s t=\"631\" ac=\"242\"> 조금</s><s t=\"930\" ac=\"234\"> 더</s><s t=\"1110\" ac=\"239\"> 지켜봐야</s><s t=\"1561\" ac=\"236\"> 할</s><s t=\"1711\" ac=\"245\"> 것</s></p>\\n<p t=\"122510\" d=\"2249\" w=\"1\" a=\"1\">\\n</p>\\n<p t=\"122520\" d=\"2239\" w=\"1\"><s ac=\"249\">같습니다</s></p>\\n</body>\\n</timedtext>\\n'"
      ]
     },
     "execution_count": 109,
     "metadata": {},
     "output_type": "execute_result"
    }
   ],
   "source": [
    "# 자막 살펴보기(xml 포맷)\n",
    "caption.xml_captions"
   ]
  },
  {
   "cell_type": "code",
   "execution_count": 110,
   "id": "0740f293",
   "metadata": {},
   "outputs": [
    {
     "data": {
      "text/plain": [
       "<bound method Caption.xml_caption_to_srt of <Caption lang=\"Korean (auto-generated)\" code=\"a.ko\">>"
      ]
     },
     "execution_count": 110,
     "metadata": {},
     "output_type": "execute_result"
    }
   ],
   "source": [
    "caption.xml_caption_to_srt"
   ]
  },
  {
   "cell_type": "code",
   "execution_count": 111,
   "id": "22f2aa39",
   "metadata": {},
   "outputs": [
    {
     "name": "stdout",
     "output_type": "stream",
     "text": [
      "1\n",
      "00:00:00,000 --> 00:00:05,009\n",
      " 구매 개수를 제한할 정도로 지금\n",
      "\n",
      "2\n",
      "00:00:02,360 --> 00:00:05,009\n",
      " \n",
      "\n",
      "3\n",
      "00:00:02,370 --> 00:00:07,259\n",
      " 그야말로 식용류 대란 입니다\n",
      "\n",
      "4\n",
      "00:00:04,999 --> 00:00:07,259\n",
      " \n",
      "\n",
      "5\n",
      "00:00:05,009 --> 00:00:09,090\n",
      " 치킨은 먼로 채 지나 자영업자 분들의\n",
      "\n",
      "6\n",
      "00:00:07,249 --> 00:00:09,090\n",
      " \n",
      "\n",
      "7\n",
      "00:00:07,259 --> 00:00:11,219\n",
      " 하소연도 이어지고 있는데요\n",
      "\n",
      "8\n",
      "00:00:09,080 --> 00:00:11,219\n",
      " \n",
      "\n",
      "9\n",
      "00:00:09,090 --> 00:00:13,410\n",
      " 어려운 사정은 국내 뿐만이 아닙니다\n",
      "\n",
      "10\n",
      "00:00:11,209 --> 00:00:13,410\n",
      " \n",
      "\n",
      "11\n",
      "00:00:11,219 --> 00:00:15,330\n",
      " 지금 전세계가 그야말로 식용유\n",
      "\n",
      "12\n",
      "00:00:13,400 --> 00:00:15,330\n",
      " \n",
      "\n",
      "13\n",
      "00:00:13,410 --> 00:00:17,250\n",
      " 보릿고개 를 넘고 있습니다\n",
      "\n",
      "14\n",
      "00:00:15,320 --> 00:00:17,250\n",
      " \n",
      "\n",
      "15\n",
      "00:00:15,330 --> 00:00:19,920\n",
      " 앞서 터키 스페인 벨기에 등 유럽\n",
      "\n",
      "16\n",
      "00:00:17,240 --> 00:00:19,920\n",
      " \n",
      "\n",
      "17\n",
      "00:00:17,250 --> 00:00:22,109\n",
      " 각국의 대형 마트에서도 식용유에 구매\n",
      "\n",
      "18\n",
      "00:00:19,910 --> 00:00:22,109\n",
      " \n",
      "\n",
      "19\n",
      "00:00:19,920 --> 00:00:24,600\n",
      " 개수를 제안한 바 있는데요 특히\n",
      "\n",
      "20\n",
      "00:00:22,099 --> 00:00:24,600\n",
      " \n",
      "\n",
      "21\n",
      "00:00:22,109 --> 00:00:27,510\n",
      " 영국의 대표적인 튀김 체인점인 pcn\n",
      "\n",
      "22\n",
      "00:00:24,590 --> 00:00:27,510\n",
      " \n",
      "\n",
      "23\n",
      "00:00:24,600 --> 00:00:30,150\n",
      " 집수 가 3 천군 넘게 문을 닫고\n",
      "\n",
      "24\n",
      "00:00:27,500 --> 00:00:30,150\n",
      " \n",
      "\n",
      "25\n",
      "00:00:27,510 --> 00:00:31,920\n",
      " 영국 정부까지 나서 체인점 패전 위기\n",
      "\n",
      "26\n",
      "00:00:30,140 --> 00:00:31,920\n",
      " \n",
      "\n",
      "27\n",
      "00:00:30,150 --> 00:00:34,140\n",
      " 를 경보 할 정돕니다\n",
      "\n",
      "28\n",
      "00:00:31,910 --> 00:00:34,140\n",
      " \n",
      "\n",
      "29\n",
      "00:00:31,920 --> 00:00:36,840\n",
      " 그렇다면 전세계 식용류 대라 내\n",
      "\n",
      "30\n",
      "00:00:34,130 --> 00:00:36,840\n",
      " \n",
      "\n",
      "31\n",
      "00:00:34,140 --> 00:00:39,420\n",
      " 이유는 무엇일까요 세계적으로 가장\n",
      "\n",
      "32\n",
      "00:00:36,830 --> 00:00:39,420\n",
      " \n",
      "\n",
      "33\n",
      "00:00:36,840 --> 00:00:42,210\n",
      " 많이 쓰는 3대의 식용유는 카놀라유\n",
      "\n",
      "34\n",
      "00:00:39,410 --> 00:00:42,210\n",
      " \n",
      "\n",
      "35\n",
      "00:00:39,420 --> 00:00:44,489\n",
      " 콩기름 그리고 팜유 입니다 그중에\n",
      "\n",
      "36\n",
      "00:00:42,200 --> 00:00:44,489\n",
      " \n",
      "\n",
      "37\n",
      "00:00:42,210 --> 00:00:47,190\n",
      " 카놀라유 최대 수출국인 캐나다와\n",
      "\n",
      "38\n",
      "00:00:44,479 --> 00:00:47,190\n",
      " \n",
      "\n",
      "39\n",
      "00:00:44,489 --> 00:00:49,890\n",
      " 콩기름 원료 2 대두에 주산지\n",
      "\n",
      "40\n",
      "00:00:47,180 --> 00:00:49,890\n",
      " \n",
      "\n",
      "41\n",
      "00:00:47,190 --> 00:00:52,890\n",
      " 남미에서 지난해부터 극심한 가뭄이\n",
      "\n",
      "42\n",
      "00:00:49,880 --> 00:00:52,890\n",
      " \n",
      "\n",
      "43\n",
      "00:00:49,890 --> 00:00:55,230\n",
      " 이어준 탓에 작황이 부진해 쪼 보통\n",
      "\n",
      "44\n",
      "00:00:52,880 --> 00:00:55,230\n",
      " \n",
      "\n",
      "45\n",
      "00:00:52,890 --> 00:00:58,140\n",
      " 이런 3월에 30 해바라기 수유가\n",
      "\n",
      "46\n",
      "00:00:55,220 --> 00:00:58,140\n",
      " \n",
      "\n",
      "47\n",
      "00:00:55,230 --> 00:01:00,960\n",
      " 대안이 되고 나중 근데 2패 바라기\n",
      "\n",
      "48\n",
      "00:00:58,130 --> 00:01:00,960\n",
      " \n",
      "\n",
      "49\n",
      "00:00:58,140 --> 00:01:02,910\n",
      " cu 수출 12b 국가가 루프 라인\n",
      "\n",
      "50\n",
      "00:01:00,950 --> 00:01:02,910\n",
      " \n",
      "\n",
      "51\n",
      "00:01:00,960 --> 00:01:05,159\n",
      " 아와 러시아 합니다 두 나라는 현재\n",
      "\n",
      "52\n",
      "00:01:02,900 --> 00:01:05,159\n",
      " \n",
      "\n",
      "53\n",
      "00:01:02,910 --> 00:01:07,590\n",
      " 전쟁 중이죠 특히 오프라인 않은\n",
      "\n",
      "54\n",
      "00:01:05,149 --> 00:01:07,590\n",
      " \n",
      "\n",
      "55\n",
      "00:01:05,159 --> 00:01:09,720\n",
      " 해바라기씨유 생산 양 의 절반 가량을\n",
      "\n",
      "56\n",
      "00:01:07,580 --> 00:01:09,720\n",
      " \n",
      "\n",
      "57\n",
      "00:01:07,590 --> 00:01:11,760\n",
      " 차지하고 있기 때문에 부족 현상은\n",
      "\n",
      "58\n",
      "00:01:09,710 --> 00:01:11,760\n",
      " \n",
      "\n",
      "59\n",
      "00:01:09,720 --> 00:01:14,310\n",
      " 더욱 악화되었습니다\n",
      "\n",
      "60\n",
      "00:01:11,750 --> 00:01:14,310\n",
      " \n",
      "\n",
      "61\n",
      "00:01:11,760 --> 00:01:16,380\n",
      " 전쟁의 여파 른 남은 대안인 합류\n",
      "\n",
      "62\n",
      "00:01:14,300 --> 00:01:16,380\n",
      " \n",
      "\n",
      "63\n",
      "00:01:14,310 --> 00:01:18,869\n",
      " 에도 영향을 미쳤습니다 세계 최대\n",
      "\n",
      "64\n",
      "00:01:16,370 --> 00:01:18,869\n",
      " \n",
      "\n",
      "65\n",
      "00:01:16,380 --> 00:01:21,869\n",
      " 팜유 생산국인 인도네시아가 지나 닦기\n",
      "\n",
      "66\n",
      "00:01:18,859 --> 00:01:21,869\n",
      " \n",
      "\n",
      "67\n",
      "00:01:18,869 --> 00:01:22,979\n",
      " 시프트 l3 뉴스를 막아 버렸기\n",
      "\n",
      "68\n",
      "00:01:21,859 --> 00:01:22,979\n",
      " \n",
      "\n",
      "69\n",
      "00:01:21,869 --> 00:01:24,659\n",
      " 때문입니다\n",
      "\n",
      "70\n",
      "00:01:22,969 --> 00:01:24,659\n",
      " \n",
      "\n",
      "71\n",
      "00:01:22,979 --> 00:01:27,270\n",
      " 전쟁으로 식용류 가격이 치솟자\n",
      "\n",
      "72\n",
      "00:01:24,649 --> 00:01:27,270\n",
      " \n",
      "\n",
      "73\n",
      "00:01:24,659 --> 00:01:29,939\n",
      " 인도네시아 팝뉴스 업자들이 합류를 더\n",
      "\n",
      "74\n",
      "00:01:27,260 --> 00:01:29,939\n",
      " \n",
      "\n",
      "75\n",
      "00:01:27,270 --> 00:01:32,100\n",
      " 비싸게 팔기 위해서 생산 양 대부분을\n",
      "\n",
      "76\n",
      "00:01:29,929 --> 00:01:32,100\n",
      " \n",
      "\n",
      "77\n",
      "00:01:29,939 --> 00:01:35,369\n",
      " 스틸 하면서 국내 군이 부족해 졌고\n",
      "\n",
      "78\n",
      "00:01:32,090 --> 00:01:35,369\n",
      " \n",
      "\n",
      "79\n",
      "00:01:32,100 --> 00:01:38,009\n",
      " 결국 인도네 있어야 정부가 나서 수출\n",
      "\n",
      "80\n",
      "00:01:35,359 --> 00:01:38,009\n",
      " \n",
      "\n",
      "81\n",
      "00:01:35,369 --> 00:01:40,049\n",
      " 금지 조치를 반응\n",
      "\n",
      "82\n",
      "00:01:37,999 --> 00:01:40,049\n",
      " \n",
      "\n",
      "83\n",
      "00:01:38,009 --> 00:01:42,420\n",
      " 결국 우리나라도 우크라이나 전작의\n",
      "\n",
      "84\n",
      "00:01:40,039 --> 00:01:42,420\n",
      " \n",
      "\n",
      "85\n",
      "00:01:40,049 --> 00:01:44,520\n",
      " 여진을 겪는 것이나 마찬가지입니다\n",
      "\n",
      "86\n",
      "00:01:42,410 --> 00:01:44,520\n",
      " \n",
      "\n",
      "87\n",
      "00:01:42,420 --> 00:01:46,560\n",
      " 국내 식용유 가격이 오르고 900\n",
      "\n",
      "88\n",
      "00:01:44,510 --> 00:01:46,560\n",
      " \n",
      "\n",
      "89\n",
      "00:01:44,520 --> 00:01:49,110\n",
      " 갯수 까지 제안하자 우려의 목소리는\n",
      "\n",
      "90\n",
      "00:01:46,550 --> 00:01:49,110\n",
      " \n",
      "\n",
      "91\n",
      "00:01:46,560 --> 00:01:51,180\n",
      " 더욱 커지고 있는데요 다만 국내에서는\n",
      "\n",
      "92\n",
      "00:01:49,100 --> 00:01:51,180\n",
      " \n",
      "\n",
      "93\n",
      "00:01:49,110 --> 00:01:54,210\n",
      " 말레이시아산 판 u 를 주로 사용하고\n",
      "\n",
      "94\n",
      "00:01:51,170 --> 00:01:54,210\n",
      " \n",
      "\n",
      "95\n",
      "00:01:51,180 --> 00:01:56,850\n",
      " 아직까지 원죄로 수 배도 큰 문제가\n",
      "\n",
      "96\n",
      "00:01:54,200 --> 00:01:56,850\n",
      " \n",
      "\n",
      "97\n",
      "00:01:54,210 --> 00:01:58,530\n",
      " 없다는게 전문가 의견 입니다\n",
      "\n",
      "98\n",
      "00:01:56,840 --> 00:01:58,530\n",
      " \n",
      "\n",
      "99\n",
      "00:01:56,850 --> 00:02:00,719\n",
      " 게다가 이 돈에 시아의 수출 제한\n",
      "\n",
      "100\n",
      "00:01:58,520 --> 00:02:00,719\n",
      " \n",
      "\n",
      "101\n",
      "00:01:58,530 --> 00:02:02,520\n",
      " 조치도 완화될 가능성이 나오는 만큼\n",
      "\n",
      "102\n",
      "00:02:00,709 --> 00:02:02,520\n",
      " \n",
      "\n",
      "103\n",
      "00:02:00,719 --> 00:02:04,759\n",
      " 수위를 조금 더 지켜봐야 할 것\n",
      "\n",
      "104\n",
      "00:02:02,510 --> 00:02:04,759\n",
      " \n",
      "\n",
      "105\n",
      "00:02:02,520 --> 00:02:04,759\n",
      " 같습니다\n"
     ]
    }
   ],
   "source": [
    "# 자막 살펴보기(srt 포맷)\n",
    "print(caption.generate_srt_captions())"
   ]
  },
  {
   "cell_type": "code",
   "execution_count": 112,
   "id": "501be69d",
   "metadata": {},
   "outputs": [
    {
     "data": {
      "text/plain": [
       "'C:\\\\Users\\\\82102\\\\Desktop\\\\4월 프로젝트\\\\[더뉴스] 가격까지 튀겨버린 식용유 대란원인은 어디에 있나  YTN (a.ko).srt'"
      ]
     },
     "execution_count": 112,
     "metadata": {},
     "output_type": "execute_result"
    }
   ],
   "source": [
    "# 자막 다운받기: download(\"파일명\")\n",
    "caption.download( yt.title )"
   ]
  },
  {
   "cell_type": "code",
   "execution_count": 113,
   "id": "008efa97",
   "metadata": {},
   "outputs": [
    {
     "data": {
      "text/plain": [
       "'<?xml version=\"1.0\" encoding=\"utf-8\" ?><timedtext format=\"3\">\\n<head>\\n<ws id=\"0\"/>\\n<ws id=\"1\" mh=\"2\" ju=\"0\" sd=\"3\"/>\\n<wp id=\"0\"/>\\n<wp id=\"1\" ap=\"6\" ah=\"20\" av=\"100\" rc=\"2\" cc=\"40\"/>\\n</head>\\n<body>\\n<w t=\"0\" id=\"1\" wp=\"1\" ws=\"1\"/>\\n<p t=\"0\" d=\"5009\" w=\"1\"><s ac=\"240\">구매</s><s t=\"299\" ac=\"252\"> 개수를</s><s t=\"810\" ac=\"252\"> 제한할</s><s t=\"1500\" ac=\"241\"> 정도로</s><s t=\"1979\" ac=\"249\"> 지금</s></p>\\n<p t=\"2360\" d=\"2649\" w=\"1\" a=\"1\">\\n</p>\\n<p t=\"2370\" d=\"4889\" w=\"1\"><s ac=\"201\">그야말로</s><s t=\"600\" ac=\"236\"> 식용류</s><s t=\"1170\" ac=\"239\"> 대란</s><s t=\"1559\" ac=\"255\"> 입니다</s></p>\\n<p t=\"4999\" d=\"2260\" w=\"1\" a=\"1\">\\n</p>\\n<p t=\"5009\" d=\"4081\" w=\"1\"><s ac=\"187\">치킨은</s><s t=\"391\" ac=\"210\"> 먼로</s><s t=\"631\" ac=\"227\"> 채</s><s t=\"781\" ac=\"227\"> 지나</s><s t=\"1020\" ac=\"212\"> 자영업자</s><s t=\"1921\" ac=\"227\"> 분들의</s></p>\\n<p t=\"7249\" d=\"1841\" w=\"1\" a=\"1\">\\n</p>\\n<p t=\"7259\" d=\"3960\" w=\"1\"><s ac=\"135\">하소연도</s><s t=\"481\" ac=\"226\"> 이어지고</s><s t=\"901\" ac=\"255\"> 있는데요</s></p>\\n<p t=\"9080\" d=\"2139\" w=\"1\" a=\"1\">\\n</p>\\n<p t=\"9090\" d=\"4320\" w=\"1\"><s ac=\"252\">어려운</s><s t=\"450\" ac=\"236\"> 사정은</s><s t=\"870\" ac=\"252\"> 국내</s><s t=\"1170\" ac=\"239\"> 뿐만이</s><s t=\"1379\" ac=\"255\"> 아닙니다</s></p>\\n<p t=\"11209\" d=\"2201\" w=\"1\" a=\"1\">\\n</p>\\n<p t=\"11219\" d=\"4111\" w=\"1\"><s ac=\"222\">지금</s><s t=\"210\" ac=\"160\"> 전세계가</s><s t=\"811\" ac=\"186\"> 그야말로</s><s t=\"1651\" ac=\"171\"> 식용유</s></p>\\n<p t=\"13400\" d=\"1930\" w=\"1\" a=\"1\">\\n</p>\\n<p t=\"13410\" d=\"3840\" w=\"1\"><s ac=\"200\">보릿고개</s><s t=\"630\" ac=\"200\"> 를</s><s t=\"689\" ac=\"252\"> 넘고</s><s t=\"1019\" ac=\"252\"> 있습니다</s></p>\\n<p t=\"15320\" d=\"1930\" w=\"1\" a=\"1\">\\n</p>\\n<p t=\"15330\" d=\"4590\" w=\"1\"><s ac=\"252\">앞서</s><s t=\"330\" ac=\"252\"> 터키</s><s t=\"809\" ac=\"252\"> 스페인</s><s t=\"1110\" ac=\"252\"> 벨기에</s><s t=\"1590\" ac=\"252\"> 등</s><s t=\"1830\" ac=\"252\"> 유럽</s></p>\\n<p t=\"17240\" d=\"2680\" w=\"1\" a=\"1\">\\n</p>\\n<p t=\"17250\" d=\"4859\" w=\"1\"><s ac=\"227\">각국의</s><s t=\"539\" ac=\"203\"> 대형</s><s t=\"840\" ac=\"204\"> 마트에서도</s><s t=\"1410\" ac=\"178\"> 식용유에</s><s t=\"2369\" ac=\"233\"> 구매</s></p>\\n<p t=\"19910\" d=\"2199\" w=\"1\" a=\"1\">\\n</p>\\n<p t=\"19920\" d=\"4680\" w=\"1\"><s ac=\"249\">개수를</s><s t=\"420\" ac=\"201\"> 제안한</s><s t=\"840\" ac=\"217\"> 바</s><s t=\"990\" ac=\"243\"> 있는데요</s><s t=\"1350\" ac=\"88\"> 특히</s></p>\\n<p t=\"22099\" d=\"2501\" w=\"1\" a=\"1\">\\n</p>\\n<p t=\"22109\" d=\"5401\" w=\"1\"><s ac=\"252\">영국의</s><s t=\"451\" ac=\"252\"> 대표적인</s><s t=\"961\" ac=\"232\"> 튀김</s><s t=\"1321\" ac=\"247\"> 체인점인</s><s t=\"1951\" ac=\"59\"> pcn</s></p>\\n<p t=\"24590\" d=\"2920\" w=\"1\" a=\"1\">\\n</p>\\n<p t=\"24600\" d=\"5550\" w=\"1\"><s ac=\"188\">집수</s><s t=\"300\" ac=\"188\"> 가</s><s t=\"450\" ac=\"102\"> 3</s><s t=\"810\" ac=\"139\"> 천군</s><s t=\"1320\" ac=\"252\"> 넘게</s><s t=\"1620\" ac=\"252\"> 문을</s><s t=\"1950\" ac=\"219\"> 닫고</s></p>\\n<p t=\"27500\" d=\"2650\" w=\"1\" a=\"1\">\\n</p>\\n<p t=\"27510\" d=\"4410\" w=\"1\"><s ac=\"226\">영국</s><s t=\"390\" ac=\"252\"> 정부까지</s><s t=\"660\" ac=\"246\"> 나서</s><s t=\"1140\" ac=\"252\"> 체인점</s><s t=\"1919\" ac=\"220\"> 패전</s><s t=\"2370\" ac=\"207\"> 위기</s></p>\\n<p t=\"30140\" d=\"1780\" w=\"1\" a=\"1\">\\n</p>\\n<p t=\"30150\" d=\"3990\" w=\"1\"><s ac=\"207\">를</s><s t=\"90\" ac=\"207\"> 경보</s><s t=\"539\" ac=\"243\"> 할</s><s t=\"660\" ac=\"207\"> 정돕니다</s></p>\\n<p t=\"31910\" d=\"2230\" w=\"1\" a=\"1\">\\n</p>\\n<p t=\"31920\" d=\"4920\" w=\"1\"><s ac=\"247\">그렇다면</s><s t=\"540\" ac=\"119\"> 전세계</s><s t=\"1170\" ac=\"248\"> 식용류</s><s t=\"1680\" ac=\"200\"> 대라</s><s t=\"2069\" ac=\"201\"> 내</s></p>\\n<p t=\"34130\" d=\"2710\" w=\"1\" a=\"1\">\\n</p>\\n<p t=\"34140\" d=\"5280\" w=\"1\"><s ac=\"200\">이유는</s><s t=\"720\" ac=\"247\"> 무엇일까요</s><s t=\"1829\" ac=\"251\"> 세계적으로</s><s t=\"2430\" ac=\"252\"> 가장</s></p>\\n<p t=\"36830\" d=\"2590\" w=\"1\" a=\"1\">\\n</p>\\n<p t=\"36840\" d=\"5370\" w=\"1\"><s ac=\"236\">많이</s><s t=\"330\" ac=\"236\"> 쓰는</s><s t=\"600\" ac=\"217\"> 3대의</s><s t=\"1020\" ac=\"237\"> 식용유는</s><s t=\"1580\" ac=\"200\"> 카놀라유</s></p>\\n<p t=\"39410\" d=\"2800\" w=\"1\" a=\"1\">\\n</p>\\n<p t=\"39420\" d=\"5069\" w=\"1\"><s ac=\"252\">콩기름</s><s t=\"420\" ac=\"142\"> 그리고</s><s t=\"1260\" ac=\"217\"> 팜유</s><s t=\"1680\" ac=\"251\"> 입니다</s><s t=\"2370\" ac=\"177\"> 그중에</s></p>\\n<p t=\"42200\" d=\"2289\" w=\"1\" a=\"1\">\\n</p>\\n<p t=\"42210\" d=\"4980\" w=\"1\"><s ac=\"252\">카놀라유</s><s t=\"779\" ac=\"252\"> 최대</s><s t=\"1110\" ac=\"252\"> 수출국인</s><s t=\"1650\" ac=\"223\"> 캐나다와</s></p>\\n<p t=\"44479\" d=\"2711\" w=\"1\" a=\"1\">\\n</p>\\n<p t=\"44489\" d=\"5401\" w=\"1\"><s ac=\"200\">콩기름</s><s t=\"901\" ac=\"246\"> 원료</s><s t=\"1410\" ac=\"82\"> 2</s><s t=\"1590\" ac=\"118\"> 대두에</s><s t=\"2131\" ac=\"255\"> 주산지</s></p>\\n<p t=\"47180\" d=\"2710\" w=\"1\" a=\"1\">\\n</p>\\n<p t=\"47190\" d=\"5700\" w=\"1\"><s ac=\"245\">남미에서</s><s t=\"740\" ac=\"168\"> 지난해부터</s><s t=\"1740\" ac=\"252\"> 극심한</s><s t=\"2189\" ac=\"252\"> 가뭄이</s></p>\\n<p t=\"49880\" d=\"3010\" w=\"1\" a=\"1\">\\n</p>\\n<p t=\"49890\" d=\"5340\" w=\"1\"><s ac=\"132\">이어준</s><s t=\"480\" ac=\"255\"> 탓에</s><s t=\"810\" ac=\"217\"> 작황이</s><s t=\"1649\" ac=\"252\"> 부진해</s><s t=\"2009\" ac=\"155\"> 쪼</s><s t=\"2669\" ac=\"252\"> 보통</s></p>\\n<p t=\"52880\" d=\"2350\" w=\"1\" a=\"1\">\\n</p>\\n<p t=\"52890\" d=\"5250\" w=\"1\"><s ac=\"248\">이런</s><s t=\"239\" ac=\"242\"> 3월에</s><s t=\"599\" ac=\"247\"> 30</s><s t=\"1230\" ac=\"232\"> 해바라기</s><s t=\"1860\" ac=\"226\"> 수유가</s></p>\\n<p t=\"55220\" d=\"2920\" w=\"1\" a=\"1\">\\n</p>\\n<p t=\"55230\" d=\"5730\" w=\"1\"><s ac=\"186\">대안이</s><s t=\"719\" ac=\"252\"> 되고</s><s t=\"930\" ac=\"131\"> 나중</s><s t=\"1590\" ac=\"216\"> 근데</s><s t=\"1919\" ac=\"131\"> 2패</s><s t=\"2579\" ac=\"207\"> 바라기</s></p>\\n<p t=\"58130\" d=\"2830\" w=\"1\" a=\"1\">\\n</p>\\n<p t=\"58140\" d=\"4770\" w=\"1\"><s ac=\"174\">cu</s><s t=\"270\" ac=\"247\"> 수출</s><s t=\"660\" ac=\"202\"> 12b</s><s t=\"1259\" ac=\"235\"> 국가가</s><s t=\"1739\" ac=\"122\"> 루프</s><s t=\"2579\" ac=\"206\"> 라인</s></p>\\n<p t=\"60950\" d=\"1960\" w=\"1\" a=\"1\">\\n</p>\\n<p t=\"60960\" d=\"4199\" w=\"1\"><s ac=\"170\">아와</s><s t=\"239\" ac=\"226\"> 러시아</s><s t=\"630\" ac=\"242\"> 합니다</s><s t=\"1320\" ac=\"222\"> 두</s><s t=\"1470\" ac=\"247\"> 나라는</s><s t=\"1770\" ac=\"229\"> 현재</s></p>\\n<p t=\"62900\" d=\"2259\" w=\"1\" a=\"1\">\\n</p>\\n<p t=\"62910\" d=\"4680\" w=\"1\"><s ac=\"237\">전쟁</s><s t=\"480\" ac=\"247\"> 중이죠</s><s t=\"1109\" ac=\"252\"> 특히</s><s t=\"1529\" ac=\"143\"> 오프라인</s><s t=\"2010\" ac=\"71\"> 않은</s></p>\\n<p t=\"65149\" d=\"2441\" w=\"1\" a=\"1\">\\n</p>\\n<p t=\"65159\" d=\"4561\" w=\"1\"><s ac=\"216\">해바라기씨유</s><s t=\"811\" ac=\"213\"> 생산</s><s t=\"1351\" ac=\"204\"> 양</s><s t=\"1500\" ac=\"204\"> 의</s><s t=\"1561\" ac=\"249\"> 절반</s><s t=\"2041\" ac=\"249\"> 가량을</s></p>\\n<p t=\"67580\" d=\"2140\" w=\"1\" a=\"1\">\\n</p>\\n<p t=\"67590\" d=\"4170\" w=\"1\"><s ac=\"255\">차지하고</s><s t=\"360\" ac=\"247\"> 있기</s><s t=\"569\" ac=\"245\"> 때문에</s><s t=\"930\" ac=\"170\"> 부족</s><s t=\"1650\" ac=\"247\"> 현상은</s></p>\\n<p t=\"69710\" d=\"2050\" w=\"1\" a=\"1\">\\n</p>\\n<p t=\"69720\" d=\"4590\" w=\"1\"><s ac=\"252\">더욱</s><s t=\"480\" ac=\"152\"> 악화되었습니다</s></p>\\n<p t=\"71750\" d=\"2560\" w=\"1\" a=\"1\">\\n</p>\\n<p t=\"71760\" d=\"4620\" w=\"1\"><s ac=\"252\">전쟁의</s><s t=\"390\" ac=\"252\"> 여파</s><s t=\"690\" ac=\"246\"> 른</s><s t=\"929\" ac=\"243\"> 남은</s><s t=\"1410\" ac=\"198\"> 대안인</s><s t=\"1980\" ac=\"201\"> 합류</s></p>\\n<p t=\"74300\" d=\"2080\" w=\"1\" a=\"1\">\\n</p>\\n<p t=\"74310\" d=\"4559\" w=\"1\"><s ac=\"252\">에도</s><s t=\"150\" ac=\"252\"> 영향을</s><s t=\"390\" ac=\"252\"> 미쳤습니다</s><s t=\"1290\" ac=\"200\"> 세계</s><s t=\"1770\" ac=\"200\"> 최대</s></p>\\n<p t=\"76370\" d=\"2499\" w=\"1\" a=\"1\">\\n</p>\\n<p t=\"76380\" d=\"5489\" w=\"1\"><s ac=\"236\">팜유</s><s t=\"330\" ac=\"248\"> 생산국인</s><s t=\"989\" ac=\"241\"> 인도네시아가</s><s t=\"1739\" ac=\"133\"> 지나</s><s t=\"2220\" ac=\"145\"> 닦기</s></p>\\n<p t=\"78859\" d=\"3010\" w=\"1\" a=\"1\">\\n</p>\\n<p t=\"78869\" d=\"4110\" w=\"1\"><s ac=\"215\">시프트</s><s t=\"390\" ac=\"125\"> l3</s><s t=\"1201\" ac=\"82\"> 뉴스를</s><s t=\"1890\" ac=\"166\"> 막아</s><s t=\"2701\" ac=\"252\"> 버렸기</s></p>\\n<p t=\"81859\" d=\"1120\" w=\"1\" a=\"1\">\\n</p>\\n<p t=\"81869\" d=\"2790\" w=\"1\"><s ac=\"233\">때문입니다</s></p>\\n<p t=\"82969\" d=\"1690\" w=\"1\" a=\"1\">\\n</p>\\n<p t=\"82979\" d=\"4291\" w=\"1\"><s ac=\"217\">전쟁으로</s><s t=\"511\" ac=\"151\"> 식용류</s><s t=\"960\" ac=\"252\"> 가격이</s><s t=\"1291\" ac=\"252\"> 치솟자</s></p>\\n<p t=\"84649\" d=\"2621\" w=\"1\" a=\"1\">\\n</p>\\n<p t=\"84659\" d=\"5280\" w=\"1\"><s ac=\"205\">인도네시아</s><s t=\"991\" ac=\"244\"> 팝뉴스</s><s t=\"1350\" ac=\"255\"> 업자들이</s><s t=\"1831\" ac=\"164\"> 합류를</s><s t=\"2521\" ac=\"249\"> 더</s></p>\\n<p t=\"87260\" d=\"2679\" w=\"1\" a=\"1\">\\n</p>\\n<p t=\"87270\" d=\"4830\" w=\"1\"><s ac=\"252\">비싸게</s><s t=\"419\" ac=\"252\"> 팔기</s><s t=\"750\" ac=\"252\"> 위해서</s><s t=\"1110\" ac=\"166\"> 생산</s><s t=\"1919\" ac=\"127\"> 양</s><s t=\"2130\" ac=\"205\"> 대부분을</s></p>\\n<p t=\"89929\" d=\"2171\" w=\"1\" a=\"1\">\\n</p>\\n<p t=\"89939\" d=\"5430\" w=\"1\"><s ac=\"205\">스틸</s><s t=\"271\" ac=\"255\"> 하면서</s><s t=\"661\" ac=\"208\"> 국내</s><s t=\"1290\" ac=\"236\"> 군이</s><s t=\"1470\" ac=\"252\"> 부족해</s><s t=\"1860\" ac=\"252\"> 졌고</s></p>\\n<p t=\"92090\" d=\"3279\" w=\"1\" a=\"1\">\\n</p>\\n<p t=\"92100\" d=\"5909\" w=\"1\"><s ac=\"252\">결국</s><s t=\"600\" ac=\"212\"> 인도네</s><s t=\"1229\" ac=\"246\"> 있어야</s><s t=\"1500\" ac=\"222\"> 정부가</s><s t=\"1920\" ac=\"222\"> 나서</s><s t=\"2280\" ac=\"201\"> 수출</s></p>\\n<p t=\"95359\" d=\"2650\" w=\"1\" a=\"1\">\\n</p>\\n<p t=\"95369\" d=\"4680\" w=\"1\"><s ac=\"252\">금지</s><s t=\"511\" ac=\"240\"> 조치를</s><s t=\"901\" ac=\"212\"> 반응</s></p>\\n<p t=\"97999\" d=\"2050\" w=\"1\" a=\"1\">\\n</p>\\n<p t=\"98009\" d=\"4411\" w=\"1\"><s ac=\"247\">결국</s><s t=\"391\" ac=\"202\"> 우리나라도</s><s t=\"991\" ac=\"252\"> 우크라이나</s><s t=\"1591\" ac=\"238\"> 전작의</s></p>\\n<p t=\"100039\" d=\"2381\" w=\"1\" a=\"1\">\\n</p>\\n<p t=\"100049\" d=\"4471\" w=\"1\"><s ac=\"255\">여진을</s><s t=\"481\" ac=\"237\"> 겪는</s><s t=\"841\" ac=\"252\"> 것이나</s><s t=\"1140\" ac=\"216\"> 마찬가지입니다</s></p>\\n<p t=\"102410\" d=\"2110\" w=\"1\" a=\"1\">\\n</p>\\n<p t=\"102420\" d=\"4140\" w=\"1\"><s ac=\"243\">국내</s><s t=\"210\" ac=\"242\"> 식용유</s><s t=\"629\" ac=\"252\"> 가격이</s><s t=\"930\" ac=\"252\"> 오르고</s><s t=\"1470\" ac=\"148\"> 900</s></p>\\n<p t=\"104510\" d=\"2050\" w=\"1\" a=\"1\">\\n</p>\\n<p t=\"104520\" d=\"4590\" w=\"1\"><s ac=\"204\">갯수</s><s t=\"300\" ac=\"226\"> 까지</s><s t=\"540\" ac=\"246\"> 제안하자</s><s t=\"1050\" ac=\"166\"> 우려의</s><s t=\"1650\" ac=\"252\"> 목소리는</s></p>\\n<p t=\"106550\" d=\"2560\" w=\"1\" a=\"1\">\\n</p>\\n<p t=\"106560\" d=\"4620\" w=\"1\"><s ac=\"252\">더욱</s><s t=\"210\" ac=\"252\"> 커지고</s><s t=\"480\" ac=\"248\"> 있는데요</s><s t=\"1379\" ac=\"255\"> 다만</s><s t=\"1800\" ac=\"245\"> 국내에서는</s></p>\\n<p t=\"109100\" d=\"2080\" w=\"1\" a=\"1\">\\n</p>\\n<p t=\"109110\" d=\"5100\" w=\"1\"><s ac=\"247\">말레이시아산</s><s t=\"840\" ac=\"234\"> 판</s><s t=\"1230\" ac=\"165\"> u</s><s t=\"1350\" ac=\"252\"> 를</s><s t=\"1439\" ac=\"245\"> 주로</s><s t=\"1680\" ac=\"248\"> 사용하고</s></p>\\n<p t=\"111170\" d=\"3040\" w=\"1\" a=\"1\">\\n</p>\\n<p t=\"111180\" d=\"5670\" w=\"1\"><s ac=\"186\">아직까지</s><s t=\"899\" ac=\"187\"> 원죄로</s><s t=\"1439\" ac=\"156\"> 수</s><s t=\"1649\" ac=\"148\"> 배도</s><s t=\"2070\" ac=\"200\"> 큰</s><s t=\"2640\" ac=\"247\"> 문제가</s></p>\\n<p t=\"114200\" d=\"2650\" w=\"1\" a=\"1\">\\n</p>\\n<p t=\"114210\" d=\"4320\" w=\"1\"><s ac=\"188\">없다는게</s><s t=\"570\" ac=\"134\"> 전문가</s><s t=\"1470\" ac=\"201\"> 의견</s><s t=\"1890\" ac=\"201\"> 입니다</s></p>\\n<p t=\"116840\" d=\"1690\" w=\"1\" a=\"1\">\\n</p>\\n<p t=\"116850\" d=\"3869\" w=\"1\"><s ac=\"252\">게다가</s><s t=\"330\" ac=\"213\"> 이</s><s t=\"449\" ac=\"168\"> 돈에</s><s t=\"720\" ac=\"157\"> 시아의</s><s t=\"990\" ac=\"236\"> 수출</s><s t=\"1379\" ac=\"252\"> 제한</s></p>\\n<p t=\"118520\" d=\"2199\" w=\"1\" a=\"1\">\\n</p>\\n<p t=\"118530\" d=\"3990\" w=\"1\"><s ac=\"248\">조치도</s><s t=\"449\" ac=\"250\"> 완화될</s><s t=\"1049\" ac=\"248\"> 가능성이</s><s t=\"1560\" ac=\"255\"> 나오는</s><s t=\"1860\" ac=\"255\"> 만큼</s></p>\\n<p t=\"120709\" d=\"1811\" w=\"1\" a=\"1\">\\n</p>\\n<p t=\"120719\" d=\"4040\" w=\"1\"><s ac=\"167\">수위를</s><s t=\"631\" ac=\"242\"> 조금</s><s t=\"930\" ac=\"234\"> 더</s><s t=\"1110\" ac=\"239\"> 지켜봐야</s><s t=\"1561\" ac=\"236\"> 할</s><s t=\"1711\" ac=\"245\"> 것</s></p>\\n<p t=\"122510\" d=\"2249\" w=\"1\" a=\"1\">\\n</p>\\n<p t=\"122520\" d=\"2239\" w=\"1\"><s ac=\"249\">같습니다</s></p>\\n</body>\\n</timedtext>\\n'"
      ]
     },
     "execution_count": 113,
     "metadata": {},
     "output_type": "execute_result"
    }
   ],
   "source": [
    "text = caption.xml_captions\n",
    "text"
   ]
  },
  {
   "cell_type": "code",
   "execution_count": 114,
   "id": "347beb7b",
   "metadata": {},
   "outputs": [
    {
     "data": {
      "text/plain": [
       "' 구매  개수를  제한할  정도로  지금 그야말로  식용류  대란  입니다 치킨은  먼로  채  지나  자영업자  분들의 하소연도  이어지고  있는데요 어려운  사정은  국내  뿐만이  아닙니다 지금  전세계가  그야말로  식용유 보릿고개  를  넘고  있습니다 앞서  터키  스페인  벨기에  등  유럽 각국의  대형  마트에서도  식용유에  구매 개수를  제안한  바  있는데요  특히 영국의  대표적인  튀김  체인점인 집수  가  천군  넘게  문을  닫고 영국  정부까지  나서  체인점  패전  위기 를  경보  할  정돕니다 그렇다면  전세계  식용류  대라  내 이유는  무엇일까요  세계적으로  가장 많이  쓰는  3대의  식용유는  카놀라유 콩기름  그리고  팜유  입니다  그중에 카놀라유  최대  수출국인  캐나다와 콩기름  원료  대두에  주산지 남미에서  지난해부터  극심한  가뭄이 이어준  탓에  작황이  부진해  쪼  보통 이런  3월에  해바라기  수유가 대안이  되고  나중  근데  2패  바라기  수출  국가가  루프  라인 아와  러시아  합니다  두  나라는  현재 전쟁  중이죠  특히  오프라인  않은 해바라기씨유  생산  양  의  절반  가량을 차지하고  있기  때문에  부족  현상은 더욱  악화되었습니다 전쟁의  여파  른  남은  대안인  합류 에도  영향을  미쳤습니다  세계  최대 팜유  생산국인  인도네시아가  지나  닦기 시프트  뉴스를  막아  버렸기 때문입니다 전쟁으로  식용류  가격이  치솟자 인도네시아  팝뉴스  업자들이  합류를  더 비싸게  팔기  위해서  생산  양  대부분을 스틸  하면서  국내  군이  부족해  졌고 결국  인도네  있어야  정부가  나서  수출 금지  조치를  반응 결국  우리나라도  우크라이나  전작의 여진을  겪는  것이나  마찬가지입니다 국내  식용유  가격이  오르고 갯수  까지  제안하자  우려의  목소리는 더욱  커지고  있는데요  다만  국내에서는 말레이시아산  판  를  주로  사용하고 아직까지  원죄로  수  배도  큰  문제가 없다는게  전문가  의견  입니다 게다가  이  돈에  시아의  수출  제한 조치도  완화될  가능성이  나오는  만큼 수위를  조금  더  지켜봐야  할  것 같습니다  '"
      ]
     },
     "execution_count": 114,
     "metadata": {},
     "output_type": "execute_result"
    }
   ],
   "source": [
    "import re\n",
    "불용어 = ['<[^가-힣]+>', '&[^가-힣]+;', '(박수 소리)', '\\n', '-( )', '-(특파원)', ':' , '(앵커)', '(기자)']\n",
    "for i in 불용어:\n",
    "    text = re.sub(i,' ', text)\n",
    "\n",
    "text"
   ]
  },
  {
   "cell_type": "code",
   "execution_count": 115,
   "id": "8bf06433",
   "metadata": {},
   "outputs": [],
   "source": [
    "# 저장\n",
    "import sys\n",
    "\n",
    "f = open('news.txt', 'w')\n",
    "\n",
    "f.write(text)\n",
    "\n",
    "f.close()"
   ]
  },
  {
   "cell_type": "code",
   "execution_count": null,
   "id": "a643e499",
   "metadata": {},
   "outputs": [],
   "source": []
  },
  {
   "cell_type": "code",
   "execution_count": null,
   "id": "ef6b34c0",
   "metadata": {},
   "outputs": [],
   "source": []
  },
  {
   "cell_type": "code",
   "execution_count": null,
   "id": "b8be63b3",
   "metadata": {},
   "outputs": [],
   "source": []
  },
  {
   "cell_type": "code",
   "execution_count": null,
   "id": "2796c3f9",
   "metadata": {},
   "outputs": [],
   "source": []
  },
  {
   "cell_type": "code",
   "execution_count": null,
   "id": "5109290d",
   "metadata": {},
   "outputs": [],
   "source": []
  },
  {
   "cell_type": "code",
   "execution_count": null,
   "id": "e46ef62f",
   "metadata": {},
   "outputs": [],
   "source": []
  },
  {
   "cell_type": "code",
   "execution_count": null,
   "id": "60a97a7a",
   "metadata": {},
   "outputs": [],
   "source": []
  }
 ],
 "metadata": {
  "kernelspec": {
   "display_name": "Python 3 (ipykernel)",
   "language": "python",
   "name": "python3"
  },
  "language_info": {
   "codemirror_mode": {
    "name": "ipython",
    "version": 3
   },
   "file_extension": ".py",
   "mimetype": "text/x-python",
   "name": "python",
   "nbconvert_exporter": "python",
   "pygments_lexer": "ipython3",
   "version": "3.9.7"
  }
 },
 "nbformat": 4,
 "nbformat_minor": 5
}
